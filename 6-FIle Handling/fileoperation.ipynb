{
 "cells": [
  {
   "cell_type": "code",
   "execution_count": 7,
   "id": "c363aa70",
   "metadata": {},
   "outputs": [
    {
     "name": "stdout",
     "output_type": "stream",
     "text": [
      "Helo My Name is Muh Nur Aslam,\n",
      " I'm From Makassar\n",
      " i Was Born Makassar\n",
      " May Favorite Gil is You\n"
     ]
    }
   ],
   "source": [
    "with open('example.txt', 'r') as file:\n",
    "    content = file.read()\n",
    "    print(content)"
   ]
  },
  {
   "cell_type": "code",
   "execution_count": null,
   "id": "67c4d3e5",
   "metadata": {},
   "outputs": [
    {
     "name": "stdout",
     "output_type": "stream",
     "text": [
      "Helo My Name is Muh Nur Aslam,\n",
      "I'm From Makassar\n",
      "i Was Born Makassar\n",
      "May Favorite Gil is You\n"
     ]
    }
   ],
   "source": [
    "with open('example.txt', 'r') as file:\n",
    "    for line in file:\n",
    "        print(line.strip()) #menghilangkan karakter seperti spasi"
   ]
  },
  {
   "cell_type": "code",
   "execution_count": null,
   "id": "aad72aad",
   "metadata": {},
   "outputs": [
    {
     "name": "stdout",
     "output_type": "stream",
     "text": [
      "<_io.TextIOWrapper name='example_2.txt' mode='w' encoding='UTF-8'>\n"
     ]
    }
   ],
   "source": [
    "# menulis file dengan writing\n",
    "\n",
    "with open('example_2.txt', 'w') as file:\n",
    "    file.write('Hello My Name is \\n')\n",
    "    file.write('Muh Nur Aslam')"
   ]
  },
  {
   "cell_type": "code",
   "execution_count": 12,
   "id": "c909b99a",
   "metadata": {},
   "outputs": [],
   "source": [
    "# menulis file dengan tanpa writing\n",
    "\n",
    "with open('example_2.txt', 'a') as file:\n",
    "    file.write(\"Hai Nama ku Muh Nur Aslam\")"
   ]
  },
  {
   "cell_type": "code",
   "execution_count": 14,
   "id": "3a82d2f2",
   "metadata": {},
   "outputs": [],
   "source": [
    "# menulis list dari line\n",
    "\n",
    "lines = ['\\nFirst Lines\\n', 'Second Lines\\n', 'Third Lines\\n']\n",
    "with open('example_2.txt', 'a') as file:\n",
    "    file.writelines(lines)"
   ]
  },
  {
   "cell_type": "code",
   "execution_count": 26,
   "id": "74f31fe5",
   "metadata": {},
   "outputs": [],
   "source": [
    "#  binary\n",
    "\n",
    "reads = b\"\\x00\\x01\\x02\\x03\\x04\"\n",
    "with open('example.bin', 'wb') as file:\n",
    "    file.write(reads)"
   ]
  },
  {
   "cell_type": "code",
   "execution_count": 27,
   "id": "d9499f0b",
   "metadata": {},
   "outputs": [
    {
     "name": "stdout",
     "output_type": "stream",
     "text": [
      "b'\\x00\\x01\\x02\\x03\\x04'\n"
     ]
    }
   ],
   "source": [
    "with open('example.bin', 'rb') as file:\n",
    "    content = file.read()\n",
    "    print(content)"
   ]
  },
  {
   "cell_type": "code",
   "execution_count": null,
   "id": "62611b0a",
   "metadata": {},
   "outputs": [],
   "source": []
  },
  {
   "cell_type": "code",
   "execution_count": null,
   "id": "14416552",
   "metadata": {},
   "outputs": [],
   "source": []
  }
 ],
 "metadata": {
  "kernelspec": {
   "display_name": "nlp",
   "language": "python",
   "name": "python3"
  },
  "language_info": {
   "codemirror_mode": {
    "name": "ipython",
    "version": 3
   },
   "file_extension": ".py",
   "mimetype": "text/x-python",
   "name": "python",
   "nbconvert_exporter": "python",
   "pygments_lexer": "ipython3",
   "version": "3.9.21"
  }
 },
 "nbformat": 4,
 "nbformat_minor": 5
}
