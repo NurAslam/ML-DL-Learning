{
 "cells": [
  {
   "cell_type": "code",
   "execution_count": 1,
   "id": "31d6d91d",
   "metadata": {},
   "outputs": [],
   "source": [
    "import os"
   ]
  },
  {
   "cell_type": "markdown",
   "id": "642f5cb2",
   "metadata": {},
   "source": [
    "### Assignment 1: Reading a File\n",
    "\n",
    "Write a function that reads the contents of a file named `sample.txt` and prints each line."
   ]
  },
  {
   "cell_type": "code",
   "execution_count": 7,
   "id": "3260a07a",
   "metadata": {},
   "outputs": [
    {
     "name": "stdout",
     "output_type": "stream",
     "text": [
      "    Hello World\n",
      "Nama Saya Muh Nur Aslam\n"
     ]
    }
   ],
   "source": [
    "with open('sample.txt', 'r') as file:\n",
    "    content = file.read()\n",
    "    print(content)"
   ]
  },
  {
   "cell_type": "code",
   "execution_count": 8,
   "id": "8644559a",
   "metadata": {},
   "outputs": [
    {
     "name": "stdout",
     "output_type": "stream",
     "text": [
      "Hello World\n",
      "Nama Saya Muh Nur Aslam\n"
     ]
    }
   ],
   "source": [
    "with open('sample.txt', 'r') as file:\n",
    "    for line in file:\n",
    "        print(line.strip())"
   ]
  },
  {
   "cell_type": "markdown",
   "id": "4314b844",
   "metadata": {},
   "source": [
    "### Assignment 2: Writing to a File\n",
    "\n",
    "Write a function that writes a list of strings to a file named `output.txt`, with each string on a new line.\n"
   ]
  },
  {
   "cell_type": "code",
   "execution_count": 10,
   "id": "921b8f66",
   "metadata": {},
   "outputs": [],
   "source": [
    "with open('sample.txt', 'w') as file:\n",
    "    file.write(\"Halo Nama ku Muh Nur Aslam\\n\")\n",
    "    file.write(\"Saya Tinggal di Makassar\")"
   ]
  },
  {
   "cell_type": "code",
   "execution_count": 13,
   "id": "1dc2b8d6",
   "metadata": {},
   "outputs": [],
   "source": [
    "lines = [\"First Line\\n\", \"Second Line\\n\", \"Third Line\"]\n",
    "\n",
    "with open('line.txt', 'a') as file:\n",
    "    file.writelines(lines)\n",
    "    "
   ]
  },
  {
   "cell_type": "markdown",
   "id": "65c599de",
   "metadata": {},
   "source": [
    "### Assignment 3: Copying a File\n",
    "\n",
    "Write a function that copies the contents of a file named `source.txt` to a new file named `destination.txt`.\n"
   ]
  },
  {
   "cell_type": "code",
   "execution_count": 16,
   "id": "c42367ca",
   "metadata": {},
   "outputs": [
    {
     "data": {
      "text/plain": [
       "'newFile.txt'"
      ]
     },
     "execution_count": 16,
     "metadata": {},
     "output_type": "execute_result"
    }
   ],
   "source": [
    "import shutil\n",
    "\n",
    "shutil.copyfile('sample.txt', 'newFile.txt')"
   ]
  },
  {
   "cell_type": "markdown",
   "id": "c22e3ac6",
   "metadata": {},
   "source": [
    "### Assignment 4: Appending to a File\n",
    "\n",
    "Write a function that appends a given string to the end of a file named `log.txt`.\n"
   ]
  },
  {
   "cell_type": "code",
   "execution_count": 23,
   "id": "3e7e52e6",
   "metadata": {},
   "outputs": [],
   "source": [
    "def append_file (file,text):\n",
    "    try:\n",
    "        with open(file, 'a') as file:\n",
    "            file.write(text + \"\\n\")\n",
    "    except IOError as e:\n",
    "        print(f'Error Handling : {e}')\n",
    "append_file('log.txt', 'ini adalah isi dari kedua')"
   ]
  },
  {
   "cell_type": "markdown",
   "id": "b7b7f323",
   "metadata": {},
   "source": [
    "### Assignment 5: Counting Words in a File\n",
    "\n",
    "Write a function that reads the contents of a file named `document.txt` and returns the number of words in the file.\n"
   ]
  },
  {
   "cell_type": "code",
   "execution_count": null,
   "id": "28caa236",
   "metadata": {},
   "outputs": [
    {
     "name": "stdout",
     "output_type": "stream",
     "text": [
      "File sudah ada, tidak ditulis ulang\n"
     ]
    }
   ],
   "source": [
    "import os\n",
    "\n",
    "lines = [\n",
    "    \"Aslam\"\n",
    "]\n",
    "if not os.path.exists('document.txt'):\n",
    "    try:\n",
    "        with open('document.txt', 'w') as f:\n",
    "            for line in lines:\n",
    "                print(line)\n",
    "    except IOError as e:\n",
    "        print(f\"Terjadi Kesalahan {e}\")\n",
    "else:\n",
    "    print(\"File sudah ada, tidak ditulis ulang\")"
   ]
  },
  {
   "cell_type": "code",
   "execution_count": 27,
   "id": "0b58974c",
   "metadata": {},
   "outputs": [
    {
     "name": "stdout",
     "output_type": "stream",
     "text": [
      "Aslam\n",
      "Aslam\n"
     ]
    }
   ],
   "source": [
    "try:\n",
    "    with open('document.txt', 'w') as f:\n",
    "        for line in lines:\n",
    "            print(line)\n",
    "            # strip = line.strip()\n",
    "            # split = strip.split()\n",
    "            split = ' '.join(line.strip().split())\n",
    "            print(split)\n",
    "except IOError as e:\n",
    "    print(\"Terjadi Kesalahan {e}\")"
   ]
  },
  {
   "cell_type": "code",
   "execution_count": null,
   "id": "b01c12b7",
   "metadata": {},
   "outputs": [],
   "source": []
  }
 ],
 "metadata": {
  "kernelspec": {
   "display_name": "nlp",
   "language": "python",
   "name": "python3"
  },
  "language_info": {
   "codemirror_mode": {
    "name": "ipython",
    "version": 3
   },
   "file_extension": ".py",
   "mimetype": "text/x-python",
   "name": "python",
   "nbconvert_exporter": "python",
   "pygments_lexer": "ipython3",
   "version": "3.9.21"
  }
 },
 "nbformat": 4,
 "nbformat_minor": 5
}
