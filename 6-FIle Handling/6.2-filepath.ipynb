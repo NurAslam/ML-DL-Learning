{
 "cells": [
  {
   "cell_type": "code",
   "execution_count": 1,
   "id": "2f913ddc",
   "metadata": {},
   "outputs": [],
   "source": [
    "import os"
   ]
  },
  {
   "cell_type": "code",
   "execution_count": 2,
   "id": "184ab2cd",
   "metadata": {},
   "outputs": [
    {
     "name": "stdout",
     "output_type": "stream",
     "text": [
      "/Users/user/Documents/02 OTODIDAK/Bootcamp Deep Learning/6-FIle Handling\n"
     ]
    }
   ],
   "source": [
    "cwd = os.getcwd()\n",
    "print(cwd)"
   ]
  },
  {
   "cell_type": "code",
   "execution_count": 3,
   "id": "0346b487",
   "metadata": {},
   "outputs": [
    {
     "name": "stdout",
     "output_type": "stream",
     "text": [
      "Folder package berhasil dibuat\n"
     ]
    }
   ],
   "source": [
    "new_directory = 'package'\n",
    "os.mkdir(new_directory)\n",
    "print(f\"Folder {new_directory} berhasil dibuat\")"
   ]
  },
  {
   "cell_type": "code",
   "execution_count": 5,
   "id": "d6d9c1f7",
   "metadata": {},
   "outputs": [
    {
     "name": "stdout",
     "output_type": "stream",
     "text": [
      "Folder/file.txt\n"
     ]
    }
   ],
   "source": [
    "newfile = 'file.txt'\n",
    "newFolder = 'Folder'\n",
    "\n",
    "fullpath = os.path.join(newFolder, newfile)\n",
    "print(fullpath)"
   ]
  },
  {
   "cell_type": "code",
   "execution_count": 6,
   "id": "febb7655",
   "metadata": {},
   "outputs": [
    {
     "name": "stdout",
     "output_type": "stream",
     "text": [
      "/Users/user/Documents/02 OTODIDAK/Bootcamp Deep Learning/6-FIle Handling/Folder/file.txt\n"
     ]
    }
   ],
   "source": [
    "newfile = 'file.txt'\n",
    "newFolder = 'Folder'\n",
    "\n",
    "fullpath = os.path.join(os.getcwd(), newFolder, newfile)\n",
    "print(fullpath)"
   ]
  },
  {
   "cell_type": "markdown",
   "id": "d39e4bb1",
   "metadata": {},
   "source": [
    "## Path Is Exist"
   ]
  },
  {
   "cell_type": "code",
   "execution_count": 14,
   "id": "308f1dd9",
   "metadata": {},
   "outputs": [
    {
     "name": "stdout",
     "output_type": "stream",
     "text": [
      "example.txt sudah ada\n"
     ]
    }
   ],
   "source": [
    "path = 'example.txt'\n",
    "\n",
    "if os.path.exists(path):\n",
    "    print(f\"{path} sudah ada\")\n",
    "else:\n",
    "    print(f\"{path} belum ada\")"
   ]
  },
  {
   "cell_type": "code",
   "execution_count": null,
   "id": "368a1d6a",
   "metadata": {},
   "outputs": [
    {
     "name": "stdout",
     "output_type": "stream",
     "text": [
      "File ada di direktory\n"
     ]
    }
   ],
   "source": [
    "# Check jika file nya sudah ada di dala direktory\n",
    "\n",
    "path = 'package'\n",
    "\n",
    "if os.path.isfile(path):\n",
    "    print('File Sudah ada')\n",
    "elif os.path.isdir(path):\n",
    "    print(\"File direktori sudah ada\")\n",
    "else:\n",
    "    print(\"File belum ada\")"
   ]
  },
  {
   "cell_type": "markdown",
   "id": "954c4928",
   "metadata": {},
   "source": [
    "## Absolute Path"
   ]
  },
  {
   "cell_type": "code",
   "execution_count": 13,
   "id": "4f4f2462",
   "metadata": {},
   "outputs": [
    {
     "name": "stdout",
     "output_type": "stream",
     "text": [
      "/Users/user/Documents/02 OTODIDAK/Bootcamp Deep Learning/6-FIle Handling/example.txt\n"
     ]
    }
   ],
   "source": [
    "relative_path = 'example.txt'\n",
    "\n",
    "absolute_path = os.path.abspath(relative_path)\n",
    "print(absolute_path)"
   ]
  },
  {
   "cell_type": "code",
   "execution_count": null,
   "id": "53ab8fb2",
   "metadata": {},
   "outputs": [],
   "source": []
  }
 ],
 "metadata": {
  "kernelspec": {
   "display_name": "nlp",
   "language": "python",
   "name": "python3"
  },
  "language_info": {
   "codemirror_mode": {
    "name": "ipython",
    "version": 3
   },
   "file_extension": ".py",
   "mimetype": "text/x-python",
   "name": "python",
   "nbconvert_exporter": "python",
   "pygments_lexer": "ipython3",
   "version": "3.9.21"
  }
 },
 "nbformat": 4,
 "nbformat_minor": 5
}
