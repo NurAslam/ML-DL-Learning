{
 "cells": [
  {
   "cell_type": "code",
   "execution_count": 7,
   "id": "c363aa70",
   "metadata": {},
   "outputs": [
    {
     "name": "stdout",
     "output_type": "stream",
     "text": [
      "Helo My Name is Muh Nur Aslam,\n",
      " I'm From Makassar\n",
      " i Was Born Makassar\n",
      " May Favorite Gil is You\n"
     ]
    }
   ],
   "source": [
    "with open('example.txt', 'r') as file:\n",
    "    content = file.read()\n",
    "    print(content)"
   ]
  },
  {
   "cell_type": "code",
   "execution_count": null,
   "id": "67c4d3e5",
   "metadata": {},
   "outputs": [
    {
     "name": "stdout",
     "output_type": "stream",
     "text": [
      "Helo My Name is Muh Nur Aslam,\n",
      "I'm From Makassar\n",
      "i Was Born Makassar\n",
      "May Favorite Gil is You\n"
     ]
    }
   ],
   "source": [
    "with open('example.txt', 'r') as file:\n",
    "    for line in file:\n",
    "        print(line.strip()) #menghilangkan karakter seperti spasi"
   ]
  },
  {
   "cell_type": "code",
   "execution_count": null,
   "id": "aad72aad",
   "metadata": {},
   "outputs": [
    {
     "name": "stdout",
     "output_type": "stream",
     "text": [
      "<_io.TextIOWrapper name='example_2.txt' mode='w' encoding='UTF-8'>\n"
     ]
    }
   ],
   "source": [
    "# menulis file dengan writing\n",
    "\n",
    "with open('example_2.txt', 'w') as file:\n",
    "    file.write('Hello My Name is \\n')\n",
    "    file.write('Muh Nur Aslam')"
   ]
  },
  {
   "cell_type": "code",
   "execution_count": 12,
   "id": "c909b99a",
   "metadata": {},
   "outputs": [],
   "source": [
    "# menulis file dengan tanpa writing\n",
    "\n",
    "with open('example_2.txt', 'a') as file:\n",
    "    file.write(\"Hai Nama ku Muh Nur Aslam\")"
   ]
  },
  {
   "cell_type": "code",
   "execution_count": 14,
   "id": "3a82d2f2",
   "metadata": {},
   "outputs": [],
   "source": [
    "# menulis list dari line\n",
    "\n",
    "lines = ['\\nFirst Lines\\n', 'Second Lines\\n', 'Third Lines\\n']\n",
    "with open('example_2.txt', 'a') as file:\n",
    "    file.writelines(lines)"
   ]
  },
  {
   "cell_type": "code",
   "execution_count": 26,
   "id": "74f31fe5",
   "metadata": {},
   "outputs": [],
   "source": [
    "#  binary\n",
    "\n",
    "reads = b\"\\x00\\x01\\x02\\x03\\x04\"\n",
    "with open('example.bin', 'wb') as file:\n",
    "    file.write(reads)"
   ]
  },
  {
   "cell_type": "code",
   "execution_count": 27,
   "id": "d9499f0b",
   "metadata": {},
   "outputs": [
    {
     "name": "stdout",
     "output_type": "stream",
     "text": [
      "b'\\x00\\x01\\x02\\x03\\x04'\n"
     ]
    }
   ],
   "source": [
    "with open('example.bin', 'rb') as file:\n",
    "    content = file.read()\n",
    "    print(content)"
   ]
  },
  {
   "cell_type": "code",
   "execution_count": 1,
   "id": "62611b0a",
   "metadata": {},
   "outputs": [
    {
     "name": "stdout",
     "output_type": "stream",
     "text": [
      "Lines 4, \n",
      "Word: 6, \n",
      "Character: 38\n"
     ]
    }
   ],
   "source": [
    "lines = ['\\nFirst Lines\\n', 'Second Lines\\n', 'Third Lines\\n']\n",
    "def count_text_file(file_path):\n",
    "    with open(file_path, 'r') as file:\n",
    "        line = file.readlines()\n",
    "        line_count = len(line)\n",
    "        word_count = sum(len(line.split())for line in lines )\n",
    "        char_count = sum(len(line) for line in lines)\n",
    "    return line_count, word_count, char_count\n",
    "\n",
    "file_path = 'example.txt'\n",
    "line, words, character = count_text_file(file_path)\n",
    "print(f\"Lines {line}, \\nWord: {words}, \\nCharacter: {character}\")"
   ]
  },
  {
   "cell_type": "markdown",
   "id": "5d0a9734",
   "metadata": {},
   "source": [
    "The w+ di python itu bisa digunakan untuk membuka kedua file \"writing\" dan \"read\". jika belum ada isinya maka akan dibuatkan. jika suda ada maka truncated (file nya akan overwritten)"
   ]
  },
  {
   "cell_type": "code",
   "execution_count": null,
   "id": "14416552",
   "metadata": {},
   "outputs": [
    {
     "name": "stdout",
     "output_type": "stream",
     "text": [
      "Hello World\n",
      "This is new Line\n",
      "\n"
     ]
    }
   ],
   "source": [
    "with open('example.txt', 'w+') as file:\n",
    "    file.write(\"Hello World\\n\")\n",
    "    file.write(\"This is new Line\\n\")\n",
    "\n",
    "    # untuk menampilkannya haris menggunakan ini, jika tanpa ini maka ngga tampil\n",
    "    file.seek(0)\n",
    "\n",
    "    content = file.read()\n",
    "    print(content)"
   ]
  },
  {
   "cell_type": "code",
   "execution_count": null,
   "id": "4d1cb632",
   "metadata": {},
   "outputs": [],
   "source": []
  }
 ],
 "metadata": {
  "kernelspec": {
   "display_name": "nlp",
   "language": "python",
   "name": "python3"
  },
  "language_info": {
   "codemirror_mode": {
    "name": "ipython",
    "version": 3
   },
   "file_extension": ".py",
   "mimetype": "text/x-python",
   "name": "python",
   "nbconvert_exporter": "python",
   "pygments_lexer": "ipython3",
   "version": "3.9.21"
  }
 },
 "nbformat": 4,
 "nbformat_minor": 5
}
